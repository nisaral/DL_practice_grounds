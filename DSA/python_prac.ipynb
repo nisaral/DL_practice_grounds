{
 "cells": [
  {
   "cell_type": "code",
   "execution_count": null,
   "metadata": {},
   "outputs": [],
   "source": [
    "from abc import ABC, abstractmethod\n",
    "import math\n",
    "\n",
    "# Abstract base class\n",
    "class Shape(ABC):\n",
    "    @abstractmethod\n",
    "    def calculate_area(self):\n",
    "        pass\n",
    "\n",
    "class Circle(Shape):\n",
    "    def __init__(self, radius):\n",
    "        self.radius = radius\n",
    "    \n",
    "    def calculate_area(self):\n",
    "        return math.pi * self.radius ** 2\n",
    "\n",
    "class Rectangle(Shape):\n",
    "    def __init__(self, width, height):\n",
    "        self.width = width\n",
    "        self.height = height\n",
    "    \n",
    "    def calculate_area(self):\n",
    "        return self.width * self.height\n",
    "\n",
    "def print_area(shape):\n",
    "    if not isinstance(shape, Shape):\n",
    "        raise TypeError(\"Argument must be a Shape object\")\n",
    "    \n",
    "    # Get the class name for better output\n",
    "    shape_type = shape.__class__.__name__\n",
    "    \n",
    "    # Calculate and print the area\n",
    "    area = shape.calculate_area()\n",
    "    print(f\"The area of the {shape_type} is: {area:.2f}\")\n",
    "\n",
    "# Demonstrate the polymorphic behavior\n",
    "if __name__ == \"__main__\":\n",
    "    # Create instances of different shapes\n",
    "    circle = Circle(radius=5)\n",
    "    rectangle = Rectangle(width=4, height=6)\n",
    "    \n",
    "    # Print areas using the same function\n",
    "    print_area(circle)      # Will use Circle's calculate_area method\n",
    "    print_area(rectangle)   # Will use Rectangle's calculate_area method\n",
    "    \n",
    "    # Demonstrate error handling\n",
    "    try:\n",
    "        print_area(\"not a shape\")  # This will raise a TypeError\n",
    "    except TypeError as e:\n",
    "        print(f\"Error: {e}\")\n",
    "    \n",
    "    # Create a list of shapes to demonstrate polymorphism further\n",
    "    shapes = [\n",
    "        Circle(radius=3),\n",
    "        Rectangle(width=2, height=8),\n",
    "        Circle(radius=7),\n",
    "        Rectangle(width=5, height=5)\n",
    "    ]\n",
    "    \n",
    "    # Process all shapes using the same function\n",
    "    print(\"\\nProcessing multiple shapes:\")\n",
    "    for shape in shapes:\n",
    "        print_area(shape)"
   ]
  },
  {
   "cell_type": "code",
   "execution_count": null,
   "metadata": {},
   "outputs": [],
   "source": []
  },
  {
   "cell_type": "code",
   "execution_count": null,
   "metadata": {},
   "outputs": [
    {
     "data": {
      "text/plain": [
       "Traceback (most recent call last):\n",
       "  File \"c:\\Users\\nisar\\.vscode\\extensions\\ms-python.python-2024.20.0-win32-x64\\python_files\\python_server.py\", line 130, in exec_user_input\n",
       "    retval = callable_(user_input, user_globals)\n",
       "             ^^^^^^^^^^^^^^^^^^^^^^^^^^^^^^^^^^^\n",
       "  File \"<string>\", line 3, in <module>\n",
       "TypeError: 'int' object is not iterable\n",
       "\n"
      ]
     },
     "metadata": {},
     "output_type": "display_data"
    }
   ],
   "source": [
    "from functools import reduce\n",
    "npp=[1,2,3,4,5,6,77,44]\n",
    "nn=list(reduce(lambda x, y:x+y,npp))\n",
    "nn"
   ]
  },
  {
   "cell_type": "code",
   "execution_count": 8,
   "metadata": {},
   "outputs": [],
   "source": [
    "from abc import ABC,abstractmethod\n",
    "import math\n",
    "class Shape(ABC):\n",
    "    def calculate_Area(self):\n",
    "        pass\n",
    "class circle(Shape):\n",
    "    def _init_(self,radius):\n",
    "        self.radius=radius\n",
    "    def calculate_Area(self):\n",
    "        return math.pi*self.radius**2\n",
    "class rectangle(Shape):\n",
    "    def __init__(self,width,height):\n",
    "        self.width=width\n",
    "        self.height=height\n",
    "    def calculate_Area(self):\n",
    "        return self.width*self.height\n",
    "def print_area(shape):\n",
    "    if not isinstance(shape,Shape):\n",
    "        raise TypeError(\"argument must be a shape object\")\n",
    "    shape_type=shape.__class__.__name__\n",
    "\n",
    "    area=shape.calculate_Area()\n",
    "    print(f\"the area of the {shape_type} is:{area:.2f}\")\n",
    "\n",
    "if __name__==\" __main__ \":\n",
    "    c=circle(radius=12)\n",
    "    print_area(c)"
   ]
  },
  {
   "cell_type": "code",
   "execution_count": 6,
   "metadata": {},
   "outputs": [
    {
     "name": "stdout",
     "output_type": "stream",
     "text": [
      "Employee details:\n",
      "Name: John Doe, Salary: $50,000.00\n",
      "\n",
      "Manager details:\n",
      "Name: Jane Smith, Salary: $80,000.00, Department: Engineering\n"
     ]
    }
   ],
   "source": [
    "class Employee:\n",
    "    def __init__(self, name, salary):\n",
    "        # Initialize basic employee attributes\n",
    "        self.name = name\n",
    "        self.salary = salary\n",
    "    \n",
    "    def get_details(self):\n",
    "        return f\"Name: {self.name}, Salary: ${self.salary:,.2f}\"\n",
    "\n",
    "class Manager(Employee):\n",
    "    def __init__(self, name, salary, department):\n",
    "        # Call parent constructor for name and salary\n",
    "        super().__init__(name, salary)\n",
    "        # Add department attribute specific to managers\n",
    "        self.department = department\n",
    "    \n",
    "    def get_details(self):\n",
    "        # Override get_details to include department\n",
    "        return f\"Name: {self.name}, Salary: ${self.salary:,.2f}, Department: {self.department}\"\n",
    "\n",
    "# Example usage\n",
    "if __name__ == \"__main__\":\n",
    "    # Create a regular employee\n",
    "    emp1 = Employee(\"John Doe\", 50000)\n",
    "    print(\"Employee details:\")\n",
    "    print(emp1.get_details())\n",
    "    \n",
    "    # Create a manager\n",
    "    mgr1 = Manager(\"Jane Smith\", 80000, \"Engineering\")\n",
    "    print(\"\\nManager details:\")\n",
    "    print(mgr1.get_details())"
   ]
  },
  {
   "cell_type": "code",
   "execution_count": 9,
   "metadata": {},
   "outputs": [
    {
     "name": "stdout",
     "output_type": "stream",
     "text": [
      "The red shape has area: 15\n",
      "The blue shape has area: 50.24\n",
      "The green shape has area: 12\n"
     ]
    }
   ],
   "source": [
    "class Shape:\n",
    "    def __init__(self, color):\n",
    "        self.color = color\n",
    "    \n",
    "    def area(self):\n",
    "        return 0\n",
    "\n",
    "class Rectangle(Shape):\n",
    "    def __init__(self, color, length, width):\n",
    "        super().__init__(color)  # Call parent constructor\n",
    "        self.length = length\n",
    "        self.width = width\n",
    "    \n",
    "    def area(self):\n",
    "        return self.length * self.width\n",
    "\n",
    "class Circle(Shape):\n",
    "    def __init__(self, color, radius):\n",
    "        super().__init__(color)  # Call parent constructor\n",
    "        self.radius = radius\n",
    "    \n",
    "    def area(self):\n",
    "        return 3.14 * self.radius ** 2\n",
    "\n",
    "# Using both concepts\n",
    "shapes = [\n",
    "    Rectangle(\"red\", 5, 3),\n",
    "    Circle(\"blue\", 4),\n",
    "    Rectangle(\"green\", 2, 6)\n",
    "]\n",
    "\n",
    "# Polymorphic behavior\n",
    "for shape in shapes:\n",
    "    print(f\"The {shape.color} shape has area: {shape.area()}\")"
   ]
  },
  {
   "cell_type": "code",
   "execution_count": 10,
   "metadata": {},
   "outputs": [
    {
     "name": "stdout",
     "output_type": "stream",
     "text": [
      "Vehicle Efficiency Report:\n",
      "Car Model: Toyota Camry\n",
      "Fuel Efficiency: 30.5 MPG\n",
      "Total Range: 366.0 miles\n",
      "----------------------------------------\n",
      "Truck with 2000lbs cargo capacity\n",
      "Fuel Efficiency: 15.2 MPG\n",
      "Total Range: 304.0 miles\n",
      "----------------------------------------\n",
      "Truck with 5000lbs cargo capacity\n",
      "Fuel Efficiency: 15.2 MPG\n",
      "Total Range: 456.0 miles\n",
      "----------------------------------------\n"
     ]
    }
   ],
   "source": [
    "class Vehicle:\n",
    "    def __init__(self, fuel_capacity):\n",
    "        self.fuel_capacity = fuel_capacity\n",
    "    \n",
    "    def fuel_efficiency(self):\n",
    "        # Base method - would be overridden\n",
    "        return 0\n",
    "    \n",
    "    def get_range(self):\n",
    "        # Calculate total range based on fuel capacity and efficiency\n",
    "        return self.fuel_capacity * self.fuel_efficiency()\n",
    "\n",
    "class Car(Vehicle):\n",
    "    def __init__(self, fuel_capacity, model):\n",
    "        super().__init__(fuel_capacity)\n",
    "        self.model = model\n",
    "    \n",
    "    def fuel_efficiency(self):\n",
    "        # Cars typically have better fuel efficiency\n",
    "        return 30.5  # MPG for a typical car\n",
    "    \n",
    "class Truck(Vehicle):\n",
    "    def __init__(self, fuel_capacity, cargo_capacity):\n",
    "        super().__init__(fuel_capacity)\n",
    "        self.cargo_capacity = cargo_capacity  # in pounds\n",
    "    \n",
    "    def fuel_efficiency(self):\n",
    "        # Trucks generally have lower fuel efficiency\n",
    "        return 15.2  # MPG for a typical truck\n",
    "\n",
    "def print_fuel_efficiency(vehicle):\n",
    "    \"\"\"\n",
    "    Polymorphic function that works with any vehicle type\n",
    "    \"\"\"\n",
    "    if isinstance(vehicle, Car):\n",
    "        print(f\"Car Model: {vehicle.model}\")\n",
    "    elif isinstance(vehicle, Truck):\n",
    "        print(f\"Truck with {vehicle.cargo_capacity}lbs cargo capacity\")\n",
    "    \n",
    "    efficiency = vehicle.fuel_efficiency()\n",
    "    total_range = vehicle.get_range()\n",
    "    print(f\"Fuel Efficiency: {efficiency:.1f} MPG\")\n",
    "    print(f\"Total Range: {total_range:.1f} miles\")\n",
    "    print(\"-\" * 40)\n",
    "\n",
    "# Example usage\n",
    "if __name__ == \"__main__\":\n",
    "    # Create instances of different vehicles\n",
    "    sedan = Car(12, \"Toyota Camry\")\n",
    "    pickup = Truck(20, 2000)\n",
    "    delivery_truck = Truck(30, 5000)\n",
    "    \n",
    "    # Demonstrate polymorphism by passing different vehicle types\n",
    "    print(\"Vehicle Efficiency Report:\")\n",
    "    print_fuel_efficiency(sedan)\n",
    "    print_fuel_efficiency(pickup)\n",
    "    print_fuel_efficiency(delivery_truck)"
   ]
  },
  {
   "cell_type": "code",
   "execution_count": 15,
   "metadata": {},
   "outputs": [
    {
     "name": "stdout",
     "output_type": "stream",
     "text": [
      "button is clicked\n"
     ]
    }
   ],
   "source": [
    "import tkinter as tk\n",
    "root =tk.Tk()\n",
    "label=tk.Label(root,text=\"hello , world\")\n",
    "label.pack()\n",
    "root.title(\"simple app\")\n",
    "root.geometry(\"300x200\")\n",
    "def my_function():\n",
    "    print(\"button is clicked\")\n",
    "    root.mainloop()\n",
    "my_function()"
   ]
  },
  {
   "cell_type": "code",
   "execution_count": 18,
   "metadata": {},
   "outputs": [],
   "source": [
    "import tkinter as tk\n",
    "\n",
    "# Function to update label text with user input\n",
    "def display_text():\n",
    "    user_text = entry.get()\n",
    "    label.config(text=f\"Hello, {user_text}!\")\n",
    "\n",
    "# Create the main window\n",
    "root = tk.Tk()\n",
    "root.title(\"Simple Tkinter App\")\n",
    "\n",
    "# Entry widget\n",
    "entry = tk.Entry(root, width=30)\n",
    "entry.pack(pady=10)\n",
    "\n",
    "# Button widget\n",
    "button = tk.Button(root, text=\"Submit\", command=display_text)\n",
    "button.pack(pady=5)\n",
    "\n",
    "# Label widget\n",
    "label = tk.Label(root, text=\"Enter your name above!\", font=(\"Arial\", 12))\n",
    "label.pack(pady=20)\n",
    "\n",
    "# Start the Tkinter event loop\n",
    "root.mainloop()\n"
   ]
  },
  {
   "cell_type": "code",
   "execution_count": 30,
   "metadata": {},
   "outputs": [
    {
     "name": "stdout",
     "output_type": "stream",
     "text": [
      "Hello, my name is Alice and I am 30 years old.\n",
      "Hello, my name is Bob and I am 25 years old.\n",
      "the sex of man is \n"
     ]
    }
   ],
   "source": [
    "class Person:\n",
    "    def __init__(self, name, age,sex):\n",
    "        self.name = name\n",
    "        self.age = age\n",
    "        self.sex= s\n",
    "        \n",
    " \n",
    "    def greet(self):\n",
    "        return f\"Hello, my name is {self.name} and I am {self.age} years old.\"\n",
    "    def sexy(self):\n",
    "        return f\"the sex of man is {self.sex}\"\n",
    "\n",
    "# Creating objects of the Person class\n",
    "person1 = Person(\"Alice\", 30,\"male\")\n",
    "person2 = Person(\"Bob\", 25,\"female\")\n",
    "\n",
    "# Calling methods on the objects\n",
    "print(person1.greet())\n",
    "print(person2.greet())\n",
    "print(person1.sexy())"
   ]
  },
  {
   "cell_type": "code",
   "execution_count": 17,
   "metadata": {},
   "outputs": [
    {
     "name": "stdout",
     "output_type": "stream",
     "text": [
      "Palindrome\n"
     ]
    }
   ],
   "source": [
    "def is_palindrome(s): \n",
    "    if len(s) <= 1: \n",
    "        return True \n",
    "    else: \n",
    "        return s[0] == s[-1] and is_palindrome(s[1:-1]) \n",
    " \n",
    "s = input(\"Enter a string: \") \n",
    "print(\"Palindrome\" if is_palindrome(s) else \"Not a palindrome\")"
   ]
  },
  {
   "cell_type": "code",
   "execution_count": 3,
   "metadata": {},
   "outputs": [
    {
     "data": {
      "text/plain": [
       "120"
      ]
     },
     "execution_count": 3,
     "metadata": {},
     "output_type": "execute_result"
    }
   ],
   "source": [
    "def fact(n):\n",
    "    if n==0:\n",
    "        return 1\n",
    "    else:\n",
    "        return n*fact(n-1)\n",
    "\n",
    "fact(5)\n"
   ]
  },
  {
   "cell_type": "code",
   "execution_count": null,
   "metadata": {},
   "outputs": [],
   "source": []
  }
 ],
 "metadata": {
  "kernelspec": {
   "display_name": "Python 3",
   "language": "python",
   "name": "python3"
  },
  "language_info": {
   "codemirror_mode": {
    "name": "ipython",
    "version": 3
   },
   "file_extension": ".py",
   "mimetype": "text/x-python",
   "name": "python",
   "nbconvert_exporter": "python",
   "pygments_lexer": "ipython3",
   "version": "3.11.9"
  }
 },
 "nbformat": 4,
 "nbformat_minor": 2
}
