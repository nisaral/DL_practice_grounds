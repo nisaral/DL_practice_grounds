{
 "cells": [
  {
   "cell_type": "code",
   "execution_count": null,
   "metadata": {},
   "outputs": [],
   "source": [
    "from abc import ABC, abstractmethod\n",
    "import math\n",
    "\n",
    "# Abstract base class\n",
    "class Shape(ABC):\n",
    "    @abstractmethod\n",
    "    def calculate_area(self):\n",
    "        pass\n",
    "\n",
    "class Circle(Shape):\n",
    "    def __init__(self, radius):\n",
    "        self.radius = radius\n",
    "    \n",
    "    def calculate_area(self):\n",
    "        return math.pi * self.radius ** 2\n",
    "\n",
    "class Rectangle(Shape):\n",
    "    def __init__(self, width, height):\n",
    "        self.width = width\n",
    "        self.height = height\n",
    "    \n",
    "    def calculate_area(self):\n",
    "        return self.width * self.height\n",
    "\n",
    "def print_area(shape):\n",
    "    if not isinstance(shape, Shape):\n",
    "        raise TypeError(\"Argument must be a Shape object\")\n",
    "    \n",
    "    # Get the class name for better output\n",
    "    shape_type = shape.__class__.__name__\n",
    "    \n",
    "    # Calculate and print the area\n",
    "    area = shape.calculate_area()\n",
    "    print(f\"The area of the {shape_type} is: {area:.2f}\")\n",
    "\n",
    "# Demonstrate the polymorphic behavior\n",
    "if __name__ == \"__main__\":\n",
    "    # Create instances of different shapes\n",
    "    circle = Circle(radius=5)\n",
    "    rectangle = Rectangle(width=4, height=6)\n",
    "    \n",
    "    # Print areas using the same function\n",
    "    print_area(circle)      # Will use Circle's calculate_area method\n",
    "    print_area(rectangle)   # Will use Rectangle's calculate_area method\n",
    "    \n",
    "    # Demonstrate error handling\n",
    "    try:\n",
    "        print_area(\"not a shape\")  # This will raise a TypeError\n",
    "    except TypeError as e:\n",
    "        print(f\"Error: {e}\")\n",
    "    \n",
    "    # Create a list of shapes to demonstrate polymorphism further\n",
    "    shapes = [\n",
    "        Circle(radius=3),\n",
    "        Rectangle(width=2, height=8),\n",
    "        Circle(radius=7),\n",
    "        Rectangle(width=5, height=5)\n",
    "    ]\n",
    "    \n",
    "    # Process all shapes using the same function\n",
    "    print(\"\\nProcessing multiple shapes:\")\n",
    "    for shape in shapes:\n",
    "        print_area(shape)"
   ]
  },
  {
   "cell_type": "code",
   "execution_count": null,
   "metadata": {},
   "outputs": [],
   "source": []
  },
  {
   "cell_type": "code",
   "execution_count": null,
   "metadata": {},
   "outputs": [
    {
     "data": {
      "text/plain": [
       "Traceback (most recent call last):\n",
       "  File \"c:\\Users\\nisar\\.vscode\\extensions\\ms-python.python-2024.20.0-win32-x64\\python_files\\python_server.py\", line 130, in exec_user_input\n",
       "    retval = callable_(user_input, user_globals)\n",
       "             ^^^^^^^^^^^^^^^^^^^^^^^^^^^^^^^^^^^\n",
       "  File \"<string>\", line 3, in <module>\n",
       "TypeError: 'int' object is not iterable\n",
       "\n"
      ]
     },
     "metadata": {},
     "output_type": "display_data"
    }
   ],
   "source": [
    "from functools import reduce\n",
    "npp=[1,2,3,4,5,6,77,44]\n",
    "nn=list(reduce(lambda x, y:x+y,npp))\n",
    "nn"
   ]
  },
  {
   "cell_type": "code",
   "execution_count": 8,
   "metadata": {},
   "outputs": [],
   "source": [
    "from abc import ABC,abstractmethod\n",
    "import math\n",
    "class Shape(ABC):\n",
    "    def calculate_Area(self):\n",
    "        pass\n",
    "class circle(Shape):\n",
    "    def _init_(self,radius):\n",
    "        self.radius=radius\n",
    "    def calculate_Area(self):\n",
    "        return math.pi*self.radius**2\n",
    "class rectangle(Shape):\n",
    "    def __init__(self,width,height):\n",
    "        self.width=width\n",
    "        self.height=height\n",
    "    def calculate_Area(self):\n",
    "        return self.width*self.height\n",
    "def print_area(shape):\n",
    "    if not isinstance(shape,Shape):\n",
    "        raise TypeError(\"argument must be a shape object\")\n",
    "    shape_type=shape.__class__.__name__\n",
    "\n",
    "    area=shape.calculate_Area()\n",
    "    print(f\"the area of the {shape_type} is:{area:.2f}\")\n",
    "\n",
    "if __name__==\" __main__ \":\n",
    "    c=circle(radius=12)\n",
    "    print_area(c)"
   ]
  },
  {
   "cell_type": "code",
   "execution_count": 6,
   "metadata": {},
   "outputs": [
    {
     "name": "stdout",
     "output_type": "stream",
     "text": [
      "Employee details:\n",
      "Name: John Doe, Salary: $50,000.00\n",
      "\n",
      "Manager details:\n",
      "Name: Jane Smith, Salary: $80,000.00, Department: Engineering\n"
     ]
    }
   ],
   "source": [
    "class Employee:\n",
    "    def __init__(self, name, salary):\n",
    "        # Initialize basic employee attributes\n",
    "        self.name = name\n",
    "        self.salary = salary\n",
    "    \n",
    "    def get_details(self):\n",
    "        return f\"Name: {self.name}, Salary: ${self.salary:,.2f}\"\n",
    "\n",
    "class Manager(Employee):\n",
    "    def __init__(self, name, salary, department):\n",
    "        # Call parent constructor for name and salary\n",
    "        super().__init__(name, salary)\n",
    "        # Add department attribute specific to managers\n",
    "        self.department = department\n",
    "    \n",
    "    def get_details(self):\n",
    "        # Override get_details to include department\n",
    "        return f\"Name: {self.name}, Salary: ${self.salary:,.2f}, Department: {self.department}\"\n",
    "\n",
    "# Example usage\n",
    "if __name__ == \"__main__\":\n",
    "    # Create a regular employee\n",
    "    emp1 = Employee(\"John Doe\", 50000)\n",
    "    print(\"Employee details:\")\n",
    "    print(emp1.get_details())\n",
    "    \n",
    "    # Create a manager\n",
    "    mgr1 = Manager(\"Jane Smith\", 80000, \"Engineering\")\n",
    "    print(\"\\nManager details:\")\n",
    "    print(mgr1.get_details())"
   ]
  },
  {
   "cell_type": "code",
   "execution_count": 9,
   "metadata": {},
   "outputs": [
    {
     "name": "stdout",
     "output_type": "stream",
     "text": [
      "The red shape has area: 15\n",
      "The blue shape has area: 50.24\n",
      "The green shape has area: 12\n"
     ]
    }
   ],
   "source": [
    "class Shape:\n",
    "    def __init__(self, color):\n",
    "        self.color = color\n",
    "    \n",
    "    def area(self):\n",
    "        return 0\n",
    "\n",
    "class Rectangle(Shape):\n",
    "    def __init__(self, color, length, width):\n",
    "        super().__init__(color)  # Call parent constructor\n",
    "        self.length = length\n",
    "        self.width = width\n",
    "    \n",
    "    def area(self):\n",
    "        return self.length * self.width\n",
    "\n",
    "class Circle(Shape):\n",
    "    def __init__(self, color, radius):\n",
    "        super().__init__(color)  # Call parent constructor\n",
    "        self.radius = radius\n",
    "    \n",
    "    def area(self):\n",
    "        return 3.14 * self.radius ** 2\n",
    "\n",
    "# Using both concepts\n",
    "shapes = [\n",
    "    Rectangle(\"red\", 5, 3),\n",
    "    Circle(\"blue\", 4),\n",
    "    Rectangle(\"green\", 2, 6)\n",
    "]\n",
    "\n",
    "# Polymorphic behavior\n",
    "for shape in shapes:\n",
    "    print(f\"The {shape.color} shape has area: {shape.area()}\")"
   ]
  },
  {
   "cell_type": "code",
   "execution_count": null,
   "metadata": {},
   "outputs": [],
   "source": []
  }
 ],
 "metadata": {
  "kernelspec": {
   "display_name": "Python 3",
   "language": "python",
   "name": "python3"
  },
  "language_info": {
   "codemirror_mode": {
    "name": "ipython",
    "version": 3
   },
   "file_extension": ".py",
   "mimetype": "text/x-python",
   "name": "python",
   "nbconvert_exporter": "python",
   "pygments_lexer": "ipython3",
   "version": "3.11.9"
  }
 },
 "nbformat": 4,
 "nbformat_minor": 2
}
